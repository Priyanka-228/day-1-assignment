{
 "cells": [
  {
   "cell_type": "markdown",
   "metadata": {},
   "source": [
    "Given the following jumbled word, OBANWRI guess the correct English word.\n",
    "\n",
    "A. RAINBOW"
   ]
  },
  {
   "cell_type": "code",
   "execution_count": 1,
   "metadata": {},
   "outputs": [
    {
     "name": "stdout",
     "output_type": "stream",
     "text": [
      "LETS UPGRADE.\n"
     ]
    }
   ],
   "source": [
    "print(\"LETS UPGRADE.\")"
   ]
  },
  {
   "cell_type": "code",
   "execution_count": 2,
   "metadata": {},
   "outputs": [
    {
     "name": "stdout",
     "output_type": "stream",
     "text": [
      "20\n",
      "30\n",
      "profit\n",
      "20\n",
      "10\n",
      "Loss\n",
      "20\n",
      "20\n",
      "Nethier\n",
      "19\n",
      "19\n",
      "Nethier\n",
      "23\n",
      "7\n",
      "Loss\n",
      "19\n",
      "95\n",
      "profit\n"
     ]
    }
   ],
   "source": [
    "for t in range (0,6):\n",
    "    cost_price=int(input( ))\n",
    "    selling_price=int(input( ))\n",
    "    if cost_price>selling_price:\n",
    "        print(\"Loss\")\n",
    "    elif selling_price>cost_price:\n",
    "        print(\"profit\")\n",
    "    else:\n",
    "        print(\"Nethier\")"
   ]
  },
  {
   "cell_type": "code",
   "execution_count": 3,
   "metadata": {},
   "outputs": [
    {
     "name": "stdout",
     "output_type": "stream",
     "text": [
      "20\n",
      "1600\n",
      "50\n",
      "4000\n",
      "72\n",
      "5760\n",
      "7\n",
      "560\n",
      "35\n",
      "2800\n",
      "23\n",
      "1840\n",
      "95\n",
      "7600\n",
      "18\n",
      "1440\n"
     ]
    }
   ],
   "source": [
    "for t in range (0,8):\n",
    "    amount=int(input( ))\n",
    "    print(amount*80)"
   ]
  },
  {
   "cell_type": "code",
   "execution_count": null,
   "metadata": {},
   "outputs": [],
   "source": []
  }
 ],
 "metadata": {
  "kernelspec": {
   "display_name": "Python 3",
   "language": "python",
   "name": "python3"
  },
  "language_info": {
   "codemirror_mode": {
    "name": "ipython",
    "version": 3
   },
   "file_extension": ".py",
   "mimetype": "text/x-python",
   "name": "python",
   "nbconvert_exporter": "python",
   "pygments_lexer": "ipython3",
   "version": "3.8.3"
  }
 },
 "nbformat": 4,
 "nbformat_minor": 4
}
